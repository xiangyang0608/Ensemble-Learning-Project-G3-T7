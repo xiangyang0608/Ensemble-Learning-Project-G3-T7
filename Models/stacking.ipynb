{
 "cells": [
  {
   "cell_type": "code",
   "execution_count": 1,
   "metadata": {},
   "outputs": [],
   "source": [
    "import pandas as pd\n",
    "import numpy as np"
   ]
  },
  {
   "cell_type": "code",
   "execution_count": 47,
   "metadata": {},
   "outputs": [],
   "source": [
    "rf_train = pd.read_csv('./TrainSubmission/rf_train.csv')\n",
    "gb_train = pd.read_csv('./TrainSubmission/gb_train.csv')\n",
    "dt_train = pd.read_csv('./TrainSubmission/dt_final_train.csv')\n",
    "ridge_train = pd.read_csv('./TrainSubmission/bagging_ridge_train.csv')\n",
    "svr_train = pd.read_csv('./TrainSubmission/bagging_svr_train.csv')\n",
    "xgb_train = pd.read_csv('./TrainSubmission/xgb_train.csv')\n",
    "adb_train = pd.read_csv('./TrainSubmission/adb_train.csv')\n",
    "ma_train = pd.read_csv('./TrainSubmission/ma_train.csv')"
   ]
  },
  {
   "cell_type": "code",
   "execution_count": 48,
   "metadata": {},
   "outputs": [
    {
     "name": "stdout",
     "output_type": "stream",
     "text": [
      "(1494, 2)\n",
      "(1494, 2)\n",
      "(1494, 2)\n",
      "(1494, 2)\n",
      "(1494, 2)\n",
      "(1494, 2)\n",
      "(1494, 2)\n",
      "(1494, 2)\n"
     ]
    }
   ],
   "source": [
    "print(rf_train.shape)\n",
    "print(gb_train.shape)\n",
    "print(dt_train.shape)\n",
    "print(ridge_train.shape)\n",
    "print(svr_train.shape)\n",
    "print(xgb_train.shape)\n",
    "print(adb_train.shape)\n",
    "print(ma_train.shape)"
   ]
  },
  {
   "cell_type": "code",
   "execution_count": 49,
   "metadata": {},
   "outputs": [],
   "source": [
    "# merge_train = pd.merge(ma_train, rf_train, on='ID', how='left', suffixes=('_ma', '_rf'))\n",
    "merge_train = pd.merge(ma_train, gb_train, on='ID', how='left', suffixes=('_ma', '_gb'))\n",
    "# merge_train = pd.merge(merge_train, dt_train, on='ID', how='left', suffixes=('_gb', '_dt'))\n",
    "# merge_train = pd.merge(merge_train, ridge_train, on='ID', how='left', suffixes=('_dt', '_ridge'))\n",
    "# merge_train = pd.merge(merge_train, svr_train, on='ID', how='left', suffixes=('_ridge', '_svr'))\n",
    "merge_train = pd.merge(merge_train, xgb_train, on='ID', how='left', suffixes=('_gb', '_xgb'))\n",
    "merge_train = pd.merge(merge_train, adb_train, on='ID', how='left', suffixes=('_xgb', '_adb'))\n",
    "merge_train['stacked_prediction'] = 0.7 * ma_train['TARGET'] + 0.1 * gb_train['TARGET'] + 0.1 * xgb_train['TARGET'] + 0.1 * adb_train['TARGET']\n",
    "X = merge_train"
   ]
  },
  {
   "cell_type": "code",
   "execution_count": 50,
   "metadata": {},
   "outputs": [],
   "source": [
    "y = pd.read_csv('../challenge_data/Y_train.csv')"
   ]
  },
  {
   "cell_type": "code",
   "execution_count": 51,
   "metadata": {},
   "outputs": [],
   "source": [
    "ma_test = pd.read_csv('./Submission/MA_final.csv')\n",
    "rf_test = pd.read_csv('./Submission/rf_test.csv')\n",
    "gb_test = pd.read_csv('./Submission/gb_final.csv')\n",
    "dt_test = pd.read_csv('./Submission/dt_final.csv')\n",
    "ridge_test = pd.read_csv('./Submission/bagging_linear_test.csv')\n",
    "svr_test = pd.read_csv('./Submission/bagging_svr_test.csv')\n",
    "xgb_test = pd.read_csv('./Submission/xgb_final.csv')\n",
    "adb_test = pd.read_csv('./Submission/adab_final.csv')"
   ]
  },
  {
   "cell_type": "code",
   "execution_count": 52,
   "metadata": {},
   "outputs": [],
   "source": [
    "# merge_test = pd.merge(ma_test, rf_test, on='ID', how='left', suffixes=('_ma', '_rf'))\n",
    "merge_test = pd.merge(ma_test, gb_test, on='ID', how='left', suffixes=('_ma', '_gb'))\n",
    "# merge_test = pd.merge(merge_test, dt_test, on='ID', how='left', suffixes=('_gb', '_dt'))\n",
    "# merge_test = pd.merge(merge_test, ridge_test, on='ID', how='left', suffixes=('_dt', '_ridge'))\n",
    "# merge_test = pd.merge(merge_test, svr_test, on='ID', how='left', suffixes=('_ridge', '_svr'))\n",
    "merge_test = pd.merge(merge_test, xgb_test, on='ID', how='left', suffixes=('_gb', '_xgb'))\n",
    "merge_test = pd.merge(merge_test, adb_test, on='ID', how='left', suffixes=('_xgb', '_adb'))\n",
    "merge_test['stacked_prediction'] = 0.7 * ma_test['TARGET'] + 0.1 * gb_test['TARGET'] + 0.1 * xgb_test['TARGET'] + 0.1 * adb_test['TARGET']\n",
    "X_test = merge_test"
   ]
  },
  {
   "cell_type": "markdown",
   "metadata": {},
   "source": []
  },
  {
   "cell_type": "code",
   "execution_count": 53,
   "metadata": {},
   "outputs": [
    {
     "data": {
      "text/html": [
       "<div>\n",
       "<style scoped>\n",
       "    .dataframe tbody tr th:only-of-type {\n",
       "        vertical-align: middle;\n",
       "    }\n",
       "\n",
       "    .dataframe tbody tr th {\n",
       "        vertical-align: top;\n",
       "    }\n",
       "\n",
       "    .dataframe thead th {\n",
       "        text-align: right;\n",
       "    }\n",
       "</style>\n",
       "<table border=\"1\" class=\"dataframe\">\n",
       "  <thead>\n",
       "    <tr style=\"text-align: right;\">\n",
       "      <th></th>\n",
       "      <th>ID</th>\n",
       "      <th>TARGET_ma</th>\n",
       "      <th>TARGET_gb</th>\n",
       "      <th>TARGET_xgb</th>\n",
       "      <th>TARGET_adb</th>\n",
       "      <th>stacked_prediction</th>\n",
       "    </tr>\n",
       "  </thead>\n",
       "  <tbody>\n",
       "    <tr>\n",
       "      <th>0</th>\n",
       "      <td>1115</td>\n",
       "      <td>0.047286</td>\n",
       "      <td>0.052237</td>\n",
       "      <td>-0.003880</td>\n",
       "      <td>0.081199</td>\n",
       "      <td>0.046056</td>\n",
       "    </tr>\n",
       "    <tr>\n",
       "      <th>1</th>\n",
       "      <td>1202</td>\n",
       "      <td>0.020810</td>\n",
       "      <td>0.031621</td>\n",
       "      <td>0.196285</td>\n",
       "      <td>0.036961</td>\n",
       "      <td>0.041053</td>\n",
       "    </tr>\n",
       "    <tr>\n",
       "      <th>2</th>\n",
       "      <td>1194</td>\n",
       "      <td>0.246302</td>\n",
       "      <td>0.059642</td>\n",
       "      <td>0.312551</td>\n",
       "      <td>0.903239</td>\n",
       "      <td>0.299954</td>\n",
       "    </tr>\n",
       "    <tr>\n",
       "      <th>3</th>\n",
       "      <td>1084</td>\n",
       "      <td>0.280554</td>\n",
       "      <td>0.052237</td>\n",
       "      <td>-0.034276</td>\n",
       "      <td>0.082675</td>\n",
       "      <td>0.206451</td>\n",
       "    </tr>\n",
       "    <tr>\n",
       "      <th>4</th>\n",
       "      <td>1135</td>\n",
       "      <td>0.132439</td>\n",
       "      <td>0.052237</td>\n",
       "      <td>0.190241</td>\n",
       "      <td>0.312328</td>\n",
       "      <td>0.148188</td>\n",
       "    </tr>\n",
       "    <tr>\n",
       "      <th>...</th>\n",
       "      <td>...</td>\n",
       "      <td>...</td>\n",
       "      <td>...</td>\n",
       "      <td>...</td>\n",
       "      <td>...</td>\n",
       "      <td>...</td>\n",
       "    </tr>\n",
       "    <tr>\n",
       "      <th>649</th>\n",
       "      <td>879</td>\n",
       "      <td>-0.906298</td>\n",
       "      <td>-0.715887</td>\n",
       "      <td>-1.020367</td>\n",
       "      <td>-0.370244</td>\n",
       "      <td>-0.845058</td>\n",
       "    </tr>\n",
       "    <tr>\n",
       "      <th>650</th>\n",
       "      <td>673</td>\n",
       "      <td>-0.620182</td>\n",
       "      <td>0.066356</td>\n",
       "      <td>-0.170188</td>\n",
       "      <td>0.072929</td>\n",
       "      <td>-0.437218</td>\n",
       "    </tr>\n",
       "    <tr>\n",
       "      <th>651</th>\n",
       "      <td>1641</td>\n",
       "      <td>0.302310</td>\n",
       "      <td>0.274097</td>\n",
       "      <td>1.319926</td>\n",
       "      <td>0.676229</td>\n",
       "      <td>0.438642</td>\n",
       "    </tr>\n",
       "    <tr>\n",
       "      <th>652</th>\n",
       "      <td>712</td>\n",
       "      <td>2.131317</td>\n",
       "      <td>0.476056</td>\n",
       "      <td>1.421553</td>\n",
       "      <td>0.509003</td>\n",
       "      <td>1.732583</td>\n",
       "    </tr>\n",
       "    <tr>\n",
       "      <th>653</th>\n",
       "      <td>1060</td>\n",
       "      <td>-0.010917</td>\n",
       "      <td>0.136378</td>\n",
       "      <td>0.158320</td>\n",
       "      <td>0.226331</td>\n",
       "      <td>0.044461</td>\n",
       "    </tr>\n",
       "  </tbody>\n",
       "</table>\n",
       "<p>654 rows × 6 columns</p>\n",
       "</div>"
      ],
      "text/plain": [
       "       ID  TARGET_ma  TARGET_gb  TARGET_xgb  TARGET_adb  stacked_prediction\n",
       "0    1115   0.047286   0.052237   -0.003880    0.081199            0.046056\n",
       "1    1202   0.020810   0.031621    0.196285    0.036961            0.041053\n",
       "2    1194   0.246302   0.059642    0.312551    0.903239            0.299954\n",
       "3    1084   0.280554   0.052237   -0.034276    0.082675            0.206451\n",
       "4    1135   0.132439   0.052237    0.190241    0.312328            0.148188\n",
       "..    ...        ...        ...         ...         ...                 ...\n",
       "649   879  -0.906298  -0.715887   -1.020367   -0.370244           -0.845058\n",
       "650   673  -0.620182   0.066356   -0.170188    0.072929           -0.437218\n",
       "651  1641   0.302310   0.274097    1.319926    0.676229            0.438642\n",
       "652   712   2.131317   0.476056    1.421553    0.509003            1.732583\n",
       "653  1060  -0.010917   0.136378    0.158320    0.226331            0.044461\n",
       "\n",
       "[654 rows x 6 columns]"
      ]
     },
     "execution_count": 53,
     "metadata": {},
     "output_type": "execute_result"
    }
   ],
   "source": [
    "X_test"
   ]
  },
  {
   "cell_type": "code",
   "execution_count": 54,
   "metadata": {},
   "outputs": [],
   "source": [
    "X = X.set_index('ID').sort_index().reset_index(drop=True)\n",
    "y = y.set_index('ID').sort_index().reset_index(drop=True)\n",
    "X_test = X_test.set_index('ID').sort_index().reset_index(drop=True)"
   ]
  },
  {
   "cell_type": "code",
   "execution_count": 55,
   "metadata": {},
   "outputs": [
    {
     "name": "stdout",
     "output_type": "stream",
     "text": [
      "(1494, 5)\n",
      "(654, 5)\n"
     ]
    }
   ],
   "source": [
    "print(X.shape)\n",
    "print(X_test.shape)"
   ]
  },
  {
   "cell_type": "code",
   "execution_count": 56,
   "metadata": {},
   "outputs": [],
   "source": [
    "from sklearn.model_selection import train_test_split\n",
    "from sklearn.linear_model import LinearRegression\n",
    "from sklearn.svm import SVC\n",
    "from scipy.stats import spearmanr"
   ]
  },
  {
   "cell_type": "code",
   "execution_count": 57,
   "metadata": {},
   "outputs": [
    {
     "name": "stdout",
     "output_type": "stream",
     "text": [
      "Spearman Correlation for Linear Regression: 75.5%\n"
     ]
    }
   ],
   "source": [
    "x_train, x_test, y_train, y_test = train_test_split(X, y, test_size = 0.3)\n",
    "model = LinearRegression()\n",
    "model.fit(x_train, y_train['TARGET'])\n",
    "y_pred = model.predict(x_test)\n",
    "spearman_corr_lr = spearmanr(y_pred, y_test).correlation\n",
    "print(f\"Spearman Correlation for Linear Regression: {spearman_corr_lr:.1%}\")"
   ]
  },
  {
   "cell_type": "code",
   "execution_count": 61,
   "metadata": {},
   "outputs": [
    {
     "name": "stdout",
     "output_type": "stream",
     "text": [
      "TARGET_ma: -0.0430\n",
      "TARGET_gb: 0.4598\n",
      "TARGET_xgb: 0.4598\n",
      "TARGET_adb: 0.1619\n",
      "stacked_prediction: 0.0781\n"
     ]
    }
   ],
   "source": [
    "coefficients = model.coef_\n",
    "feature_names = X.columns\n",
    "feature_weights = list(zip(feature_names, coefficients))\n",
    "for feature, weight in feature_weights:\n",
    "    print(f\"{feature}: {weight:.4f}\")"
   ]
  },
  {
   "cell_type": "code",
   "execution_count": 62,
   "metadata": {},
   "outputs": [
    {
     "name": "stdout",
     "output_type": "stream",
     "text": [
      "Spearman Correlation for SVM: 77.8%\n"
     ]
    }
   ],
   "source": [
    "from sklearn.svm import SVR\n",
    "\n",
    "svm_model = SVR()\n",
    "svm_model.fit(x_train, y_train['TARGET'])\n",
    "y_pred_svm = svm_model.predict(x_test)\n",
    "spearman_corr_svm = spearmanr(y_pred_svm, y_test).correlation\n",
    "print(f\"Spearman Correlation for SVM: {spearman_corr_svm:.1%}\")"
   ]
  },
  {
   "cell_type": "code",
   "execution_count": 63,
   "metadata": {},
   "outputs": [
    {
     "name": "stdout",
     "output_type": "stream",
     "text": [
      "Spearman Correlation for Random Forest: 72.4%\n"
     ]
    }
   ],
   "source": [
    "from sklearn.ensemble import RandomForestRegressor\n",
    "\n",
    "rf_model = RandomForestRegressor()\n",
    "rf_model.fit(x_train, y_train['TARGET'])\n",
    "y_pred_rf = rf_model.predict(x_test)\n",
    "spearman_corr_rf = spearmanr(y_pred_rf, y_test).correlation\n",
    "print(f\"Spearman Correlation for Random Forest: {spearman_corr_rf:.1%}\")"
   ]
  },
  {
   "cell_type": "code",
   "execution_count": 64,
   "metadata": {},
   "outputs": [
    {
     "name": "stdout",
     "output_type": "stream",
     "text": [
      "TARGET_gb: 0.3117\n",
      "TARGET_adb: 0.3085\n",
      "TARGET_xgb: 0.3018\n",
      "TARGET_ma: 0.0434\n",
      "stacked_prediction: 0.0346\n"
     ]
    }
   ],
   "source": [
    "# Get feature importances\n",
    "feature_importances = rf_model.feature_importances_\n",
    "\n",
    "# Get feature names\n",
    "feature_names = x_train.columns\n",
    "\n",
    "# Combine feature names and feature importances and print\n",
    "feature_importance_list = list(zip(feature_names, feature_importances))\n",
    "feature_importance_list.sort(key=lambda x: x[1], reverse=True)  # Sort by importance (descending)\n",
    "\n",
    "# Print feature importance\n",
    "for feature, importance in feature_importance_list:\n",
    "    print(f\"{feature}: {importance:.4f}\")"
   ]
  },
  {
   "cell_type": "code",
   "execution_count": 65,
   "metadata": {},
   "outputs": [
    {
     "name": "stdout",
     "output_type": "stream",
     "text": [
      "Spearman Correlation for Gradient Boosting: 75.1%\n"
     ]
    }
   ],
   "source": [
    "from sklearn.ensemble import GradientBoostingRegressor\n",
    "\n",
    "gb_model = GradientBoostingRegressor()\n",
    "gb_model.fit(x_train, y_train['TARGET'])\n",
    "y_pred_gb = gb_model.predict(x_test)\n",
    "spearman_corr_gb = spearmanr(y_pred_gb, y_test).correlation\n",
    "print(f\"Spearman Correlation for Gradient Boosting: {spearman_corr_gb:.1%}\")\n"
   ]
  },
  {
   "cell_type": "code",
   "execution_count": 66,
   "metadata": {},
   "outputs": [
    {
     "name": "stdout",
     "output_type": "stream",
     "text": [
      "Spearman Correlation for XGBoost: 65.1%\n"
     ]
    }
   ],
   "source": [
    "import xgboost as xgb\n",
    "\n",
    "xgb_model = xgb.XGBRegressor()\n",
    "xgb_model.fit(x_train, y_train['TARGET'])\n",
    "y_pred_xgb = xgb_model.predict(x_test)\n",
    "spearman_corr_xgb = spearmanr(y_pred_xgb, y_test).correlation\n",
    "print(f\"Spearman Correlation for XGBoost: {spearman_corr_xgb:.1%}\")"
   ]
  },
  {
   "cell_type": "code",
   "execution_count": 67,
   "metadata": {},
   "outputs": [],
   "source": [
    "pred = svm_model.predict(X_test)\n",
    "df_test = pd.read_csv('../challenge_data/X_test.csv')\n",
    "test_pred = pd.DataFrame()\n",
    "test_pred['ID'] = df_test['ID']\n",
    "test_pred['TARGET'] = pred\n",
    "test_pred.to_csv('./Submission/' + 'stacking_final' + '.csv', index=False)"
   ]
  }
 ],
 "metadata": {
  "kernelspec": {
   "display_name": "Python 3",
   "language": "python",
   "name": "python3"
  },
  "language_info": {
   "codemirror_mode": {
    "name": "ipython",
    "version": 3
   },
   "file_extension": ".py",
   "mimetype": "text/x-python",
   "name": "python",
   "nbconvert_exporter": "python",
   "pygments_lexer": "ipython3",
   "version": "3.10.7"
  }
 },
 "nbformat": 4,
 "nbformat_minor": 2
}
