{
 "cells": [
  {
   "cell_type": "code",
   "execution_count": 72,
   "metadata": {},
   "outputs": [],
   "source": [
    "import pandas as pd\n",
    "import numpy as np"
   ]
  },
  {
   "cell_type": "code",
   "execution_count": 82,
   "metadata": {},
   "outputs": [],
   "source": [
    "rf_train = pd.read_csv('./Train submission/rf_train.csv')\n",
    "gb_train = pd.read_csv('./Train submission/gb_train.csv')\n",
    "dt_train = pd.read_csv('./Train submission/dt_final_train.csv')\n",
    "ridge_train = pd.read_csv('./Train submission/bagging_ridge_train.csv')\n",
    "svr_train = pd.read_csv('./Train submission/bagging_svr_train.csv')\n",
    "xgb_train = pd.read_csv('./Train submission/xgb_train.csv')\n",
    "adb_train = pd.read_csv('./Train submission/adb_train.csv')\n",
    "ma_train = pd.read_csv('./Train submission/ma_train.csv')"
   ]
  },
  {
   "cell_type": "code",
   "execution_count": 83,
   "metadata": {},
   "outputs": [
    {
     "name": "stdout",
     "output_type": "stream",
     "text": [
      "(1494, 2)\n",
      "(1494, 2)\n",
      "(1494, 2)\n",
      "(1494, 2)\n",
      "(1494, 2)\n",
      "(1494, 2)\n",
      "(1494, 2)\n",
      "(1494, 2)\n"
     ]
    }
   ],
   "source": [
    "print(rf_train.shape)\n",
    "print(gb_train.shape)\n",
    "print(dt_train.shape)\n",
    "print(ridge_train.shape)\n",
    "print(svr_train.shape)\n",
    "print(xgb_train.shape)\n",
    "print(adb_train.shape)\n",
    "print(ma_train.shape)"
   ]
  },
  {
   "cell_type": "code",
   "execution_count": 131,
   "metadata": {},
   "outputs": [],
   "source": [
    "# merge_train = pd.merge(ma_train, rf_train, on='ID', how='left', suffixes=('_ma', '_rf'))\n",
    "merge_train = pd.merge(ma_train, gb_train, on='ID', how='left', suffixes=('_ma', '_gb'))\n",
    "# merge_train = pd.merge(merge_train, dt_train, on='ID', how='left', suffixes=('_gb', '_dt'))\n",
    "# merge_train = pd.merge(merge_train, ridge_train, on='ID', how='left', suffixes=('_dt', '_ridge'))\n",
    "# merge_train = pd.merge(merge_train, svr_train, on='ID', how='left', suffixes=('_ridge', '_svr'))\n",
    "merge_train = pd.merge(merge_train, xgb_train, on='ID', how='left', suffixes=('_gb', '_xgb'))\n",
    "merge_train = pd.merge(merge_train, adb_train, on='ID', how='left', suffixes=('_xgb', '_adb'))\n",
    "X = merge_train"
   ]
  },
  {
   "cell_type": "code",
   "execution_count": 132,
   "metadata": {},
   "outputs": [],
   "source": [
    "y = pd.read_csv('../challenge_data/Y_train.csv')"
   ]
  },
  {
   "cell_type": "code",
   "execution_count": 133,
   "metadata": {},
   "outputs": [],
   "source": [
    "ma_test = pd.read_csv('./Submission/MA_final.csv')\n",
    "rf_test = pd.read_csv('./Submission/rf_test.csv')\n",
    "gb_test = pd.read_csv('./Submission/gb_final.csv')\n",
    "dt_test = pd.read_csv('./Submission/dt_final.csv')\n",
    "ridge_test = pd.read_csv('./Submission/bagging_linear_test.csv')\n",
    "svr_test = pd.read_csv('./Submission/bagging_svr_test.csv')\n",
    "xgb_test = pd.read_csv('./Submission/xgb_final.csv')\n",
    "adb_test = pd.read_csv('./Submission/adab_final.csv')"
   ]
  },
  {
   "cell_type": "code",
   "execution_count": 134,
   "metadata": {},
   "outputs": [],
   "source": [
    "# merge_test = pd.merge(ma_test, rf_test, on='ID', how='left', suffixes=('_ma', '_rf'))\n",
    "merge_test = pd.merge(ma_test, gb_test, on='ID', how='left', suffixes=('_ma', '_gb'))\n",
    "# merge_test = pd.merge(merge_test, dt_test, on='ID', how='left', suffixes=('_gb', '_dt'))\n",
    "# merge_test = pd.merge(merge_test, ridge_test, on='ID', how='left', suffixes=('_dt', '_ridge'))\n",
    "# merge_test = pd.merge(merge_test, svr_test, on='ID', how='left', suffixes=('_ridge', '_svr'))\n",
    "merge_test = pd.merge(merge_test, xgb_test, on='ID', how='left', suffixes=('_gb', '_xgb'))\n",
    "merge_test = pd.merge(merge_test, adb_test, on='ID', how='left', suffixes=('_xgb', '_adb'))\n",
    "X_test = merge_test"
   ]
  },
  {
   "cell_type": "markdown",
   "metadata": {},
   "source": []
  },
  {
   "cell_type": "code",
   "execution_count": 135,
   "metadata": {},
   "outputs": [],
   "source": [
    "X = X.set_index('ID').sort_index().reset_index(drop=True)\n",
    "y = y.set_index('ID').sort_index().reset_index(drop=True)\n",
    "X_test = X_test.set_index('ID').sort_index().reset_index(drop=True)"
   ]
  },
  {
   "cell_type": "code",
   "execution_count": 136,
   "metadata": {},
   "outputs": [
    {
     "name": "stdout",
     "output_type": "stream",
     "text": [
      "(1494, 4)\n",
      "(654, 4)\n"
     ]
    }
   ],
   "source": [
    "print(X.shape)\n",
    "print(X_test.shape)"
   ]
  },
  {
   "cell_type": "code",
   "execution_count": 144,
   "metadata": {},
   "outputs": [],
   "source": [
    "from sklearn.model_selection import train_test_split\n",
    "from sklearn.linear_model import LinearRegression\n",
    "from sklearn.svm import SVC\n",
    "from scipy.stats import spearmanr"
   ]
  },
  {
   "cell_type": "code",
   "execution_count": 152,
   "metadata": {},
   "outputs": [
    {
     "name": "stdout",
     "output_type": "stream",
     "text": [
      "Spearman Correlation for Linear Regression: 75.4%\n"
     ]
    }
   ],
   "source": [
    "x_train, x_test, y_train, y_test = train_test_split(X, y, test_size = 0.3)\n",
    "model = LinearRegression()\n",
    "model.fit(x_train, y_train['TARGET'])\n",
    "y_pred = model.predict(x_test)\n",
    "spearman_corr_lr = spearmanr(y_pred, y_test).correlation\n",
    "print(f\"Spearman Correlation for Linear Regression: {spearman_corr_lr:.1%}\")"
   ]
  },
  {
   "cell_type": "code",
   "execution_count": 154,
   "metadata": {},
   "outputs": [
    {
     "name": "stdout",
     "output_type": "stream",
     "text": [
      "TARGET_ma: -0.0111\n",
      "TARGET_gb: 0.5134\n",
      "TARGET_xgb: 0.5134\n",
      "TARGET_adb: 0.0728\n"
     ]
    }
   ],
   "source": [
    "# 获取模型的系数（权重）\n",
    "coefficients = model.coef_\n",
    "\n",
    "# 获取特征的名称\n",
    "feature_names = X.columns\n",
    "\n",
    "# 将特征名称和系数一一对应并打印\n",
    "feature_weights = list(zip(feature_names, coefficients))\n",
    "for feature, weight in feature_weights:\n",
    "    print(f\"{feature}: {weight:.4f}\")"
   ]
  },
  {
   "cell_type": "code",
   "execution_count": 146,
   "metadata": {},
   "outputs": [
    {
     "name": "stdout",
     "output_type": "stream",
     "text": [
      "Spearman Correlation for SVM: 77.5%\n"
     ]
    }
   ],
   "source": [
    "from sklearn.svm import SVR\n",
    "\n",
    "svm_model = SVR()\n",
    "svm_model.fit(x_train, y_train['TARGET'])\n",
    "y_pred_svm = svm_model.predict(x_test)\n",
    "spearman_corr_svm = spearmanr(y_pred_svm, y_test).correlation\n",
    "print(f\"Spearman Correlation for SVM: {spearman_corr_svm:.1%}\")"
   ]
  },
  {
   "cell_type": "code",
   "execution_count": 155,
   "metadata": {},
   "outputs": [
    {
     "name": "stdout",
     "output_type": "stream",
     "text": [
      "Spearman Correlation for Random Forest: 72.2%\n"
     ]
    }
   ],
   "source": [
    "from sklearn.ensemble import RandomForestRegressor\n",
    "\n",
    "rf_model = RandomForestRegressor()\n",
    "rf_model.fit(x_train, y_train['TARGET'])\n",
    "y_pred_rf = rf_model.predict(x_test)\n",
    "spearman_corr_rf = spearmanr(y_pred_rf, y_test).correlation\n",
    "print(f\"Spearman Correlation for Random Forest: {spearman_corr_rf:.1%}\")"
   ]
  },
  {
   "cell_type": "code",
   "execution_count": 156,
   "metadata": {},
   "outputs": [
    {
     "name": "stdout",
     "output_type": "stream",
     "text": [
      "TARGET_xgb: 0.3995\n",
      "TARGET_gb: 0.3838\n",
      "TARGET_adb: 0.1516\n",
      "TARGET_ma: 0.0651\n"
     ]
    }
   ],
   "source": [
    "# Get feature importances\n",
    "feature_importances = rf_model.feature_importances_\n",
    "\n",
    "# Get feature names\n",
    "feature_names = x_train.columns\n",
    "\n",
    "# Combine feature names and feature importances and print\n",
    "feature_importance_list = list(zip(feature_names, feature_importances))\n",
    "feature_importance_list.sort(key=lambda x: x[1], reverse=True)  # Sort by importance (descending)\n",
    "\n",
    "# Print feature importance\n",
    "for feature, importance in feature_importance_list:\n",
    "    print(f\"{feature}: {importance:.4f}\")"
   ]
  },
  {
   "cell_type": "code",
   "execution_count": 148,
   "metadata": {},
   "outputs": [
    {
     "name": "stdout",
     "output_type": "stream",
     "text": [
      "Spearman Correlation for Gradient Boosting: 73.5%\n"
     ]
    }
   ],
   "source": [
    "from sklearn.ensemble import GradientBoostingRegressor\n",
    "\n",
    "gb_model = GradientBoostingRegressor()\n",
    "gb_model.fit(x_train, y_train['TARGET'])\n",
    "y_pred_gb = gb_model.predict(x_test)\n",
    "spearman_corr_gb = spearmanr(y_pred_gb, y_test).correlation\n",
    "print(f\"Spearman Correlation for Gradient Boosting: {spearman_corr_gb:.1%}\")\n"
   ]
  },
  {
   "cell_type": "code",
   "execution_count": 149,
   "metadata": {},
   "outputs": [
    {
     "name": "stdout",
     "output_type": "stream",
     "text": [
      "Spearman Correlation for XGBoost: 65.5%\n"
     ]
    }
   ],
   "source": [
    "import xgboost as xgb\n",
    "\n",
    "xgb_model = xgb.XGBRegressor()\n",
    "xgb_model.fit(x_train, y_train['TARGET'])\n",
    "y_pred_xgb = xgb_model.predict(x_test)\n",
    "spearman_corr_xgb = spearmanr(y_pred_xgb, y_test).correlation\n",
    "print(f\"Spearman Correlation for XGBoost: {spearman_corr_xgb:.1%}\")"
   ]
  },
  {
   "cell_type": "code",
   "execution_count": 150,
   "metadata": {},
   "outputs": [],
   "source": [
    "pred = svm_model.predict(X_test)\n",
    "df_test = pd.read_csv('../challenge_data/X_test.csv')\n",
    "test_pred = pd.DataFrame()\n",
    "test_pred['ID'] = df_test['ID']\n",
    "test_pred['TARGET'] = pred\n",
    "test_pred.to_csv('./Submission/' + 'stacking_final' + '.csv', index=False)"
   ]
  }
 ],
 "metadata": {
  "kernelspec": {
   "display_name": "Python 3",
   "language": "python",
   "name": "python3"
  },
  "language_info": {
   "codemirror_mode": {
    "name": "ipython",
    "version": 3
   },
   "file_extension": ".py",
   "mimetype": "text/x-python",
   "name": "python",
   "nbconvert_exporter": "python",
   "pygments_lexer": "ipython3",
   "version": "3.10.7"
  }
 },
 "nbformat": 4,
 "nbformat_minor": 2
}
