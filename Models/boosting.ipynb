{
 "cells": [
  {
   "cell_type": "code",
   "execution_count": 1,
   "metadata": {},
   "outputs": [],
   "source": [
    "import pandas as pd\n",
    "import numpy as np\n",
    "from Util.tools import *"
   ]
  },
  {
   "cell_type": "code",
   "execution_count": 2,
   "metadata": {},
   "outputs": [],
   "source": [
    "from sklearn.ensemble import AdaBoostRegressor\n",
    "from sklearn.tree import DecisionTreeRegressor\n",
    "from sklearn.model_selection import GridSearchCV\n",
    "from sklearn.ensemble import GradientBoostingRegressor\n",
    "from xgboost import XGBRegressor\n",
    "import lightgbm as lgb\n",
    "from scipy.stats import spearmanr\n",
    "\n",
    "from sklearn.model_selection import train_test_split"
   ]
  },
  {
   "cell_type": "code",
   "execution_count": 3,
   "metadata": {},
   "outputs": [],
   "source": [
    "X_train = pd.read_csv('../challenge_data/X_train.csv')\n",
    "Y_train = pd.read_csv('../challenge_data/Y_train.csv')\n",
    "X_test = pd.read_csv('../challenge_data/X_test.csv')\n",
    "X_train_clean = X_train.drop(['COUNTRY'], axis=1)\n",
    "X_train_clean = preprocessing(X_train_clean, norm=True, pca=True)\n",
    "X_train_clean = pd.DataFrame(X_train_clean)\n",
    "X_train_clean.columns = X_train_clean.columns.astype(str)\n",
    "Y_train_clean = Y_train['TARGET']"
   ]
  },
  {
   "cell_type": "code",
   "execution_count": 4,
   "metadata": {},
   "outputs": [],
   "source": [
    "def training(model, cv=5):\n",
    "    scores = []\n",
    "    for _ in range(cv):\n",
    "        X_train, X_test, Y_train, Y_test = train_test_split(X_train_clean, Y_train_clean, test_size=0.2, random_state=np.random.randint(1, 100))\n",
    "        model.fit(X_train, Y_train)\n",
    "        y_pred = model.predict(X_test)\n",
    "        score = spearmanr(Y_test, y_pred).correlation\n",
    "\n",
    "        scores.append(score)\n",
    "\n",
    "    metric = np.mean(scores)\n",
    "\n",
    "    print('Spearman correlation for the train set: {:.1f}%'.format(100 * metric ))\n",
    "\n",
    "    return metric"
   ]
  },
  {
   "cell_type": "code",
   "execution_count": 7,
   "metadata": {},
   "outputs": [],
   "source": [
    "def grid_search_ensemble(n_estimators, learning_rate, estimator, X, Y, cv=5):\n",
    "    best_n = 0\n",
    "    best_learning_rate = 0\n",
    "    best_result = float('-inf')\n",
    "    best_model = None\n",
    "\n",
    "    for i in n_estimators:\n",
    "        for j in learning_rate:  \n",
    "            if estimator == 'AdaBoost':\n",
    "                model = AdaBoostRegressor(DecisionTreeRegressor(max_depth=3), n_estimators=i, learning_rate=j, random_state=1)\n",
    "\n",
    "            elif estimator == 'GradientBoost':\n",
    "                model = GradientBoostingRegressor(n_estimators=i, learning_rate=j, random_state=1)\n",
    "                \n",
    "            elif estimator == 'XGBoost':\n",
    "                model = XGBRegressor(n_estimators=i, learning_rate=j, random_state=1)\n",
    "                \n",
    "            else:\n",
    "                model = lgb.LGBMRegressor(max_depth=2, n_estimators=i, learning_rate=j, random_state=1, min_child_samples=20)\n",
    "\n",
    "            scores = []\n",
    "            for _ in range(cv):\n",
    "                X_train, X_test, Y_train, Y_test = train_test_split(X, Y, test_size=0.2, random_state=np.random.randint(1, 100))\n",
    "\n",
    "                model.fit(X_train, Y_train)\n",
    "                y_pred = model.predict(X_test)\n",
    "                \n",
    "                score = spearmanr(Y_test, y_pred).correlation\n",
    "\n",
    "                scores.append(score)\n",
    "\n",
    "            # Calculate the mean score\n",
    "            mean_score = np.mean(scores)\n",
    "\n",
    "            # Check if the current model is the best\n",
    "            if mean_score > best_result:\n",
    "                best_result = mean_score\n",
    "                best_n = i\n",
    "                best_learning_rate = j\n",
    "                best_model = model\n",
    "                \n",
    "\n",
    "    print(f'The best parameters values are: learning_rate: {best_learning_rate}, n_estimators: {best_n}')    \n",
    "\n",
    "    return best_n, best_learning_rate, best_model, best_result"
   ]
  },
  {
   "cell_type": "code",
   "execution_count": 5,
   "metadata": {},
   "outputs": [
    {
     "name": "stdout",
     "output_type": "stream",
     "text": [
      "Spearman correlation for the train set: 20.0%\n"
     ]
    }
   ],
   "source": [
    "clf = DecisionTreeRegressor(max_depth=3)\n",
    "clf.fit(X_train_clean, Y_train_clean)\n",
    "ada = AdaBoostRegressor(clf, n_estimators=500, learning_rate=0.1, random_state=1)\n",
    "result = training(ada)"
   ]
  },
  {
   "cell_type": "code",
   "execution_count": 8,
   "metadata": {},
   "outputs": [
    {
     "name": "stdout",
     "output_type": "stream",
     "text": [
      "The best parameters values are: learning_rate: 0.1, n_estimators: 310\n"
     ]
    }
   ],
   "source": [
    "n_estimators = np.arange(100, 600, 30)\n",
    "learning_rate = [0.01, 0.05, 0.1, 0.5, 1]\n",
    "best_n, best_learning_rate, best_model, best_result = grid_search_ensemble(n_estimators, learning_rate, 'AdaBoost', X_train_clean, Y_train_clean)"
   ]
  },
  {
   "cell_type": "code",
   "execution_count": 37,
   "metadata": {},
   "outputs": [
    {
     "name": "stdout",
     "output_type": "stream",
     "text": [
      "Spearman correlation for the train set: 16.7%\n"
     ]
    }
   ],
   "source": [
    "clf = DecisionTreeRegressor(max_depth=3)\n",
    "clf.fit(X_train_clean, Y_train_clean)\n",
    "ada_best = AdaBoostRegressor(clf, n_estimators=310, learning_rate=0.1, random_state=1)\n",
    "result = training(ada_best)"
   ]
  },
  {
   "cell_type": "code",
   "execution_count": 10,
   "metadata": {},
   "outputs": [
    {
     "name": "stdout",
     "output_type": "stream",
     "text": [
      "Spearman correlation for the train set: 11.8%\n"
     ]
    }
   ],
   "source": [
    "gb = GradientBoostingRegressor(max_depth=2, n_estimators=500, learning_rate=0.1, random_state=1)\n",
    "result = training(gb)"
   ]
  },
  {
   "cell_type": "code",
   "execution_count": 11,
   "metadata": {},
   "outputs": [
    {
     "name": "stdout",
     "output_type": "stream",
     "text": [
      "The best parameters values are: learning_rate: 0.01, n_estimators: 280\n"
     ]
    }
   ],
   "source": [
    "n_estimators = np.arange(100, 600, 30)\n",
    "learning_rate = [0.01, 0.05, 0.1, 0.5, 1]\n",
    "best_n, best_learning_rate, best_model, best_result = grid_search_ensemble(n_estimators, learning_rate, 'GradientBoost', X_train_clean, Y_train_clean)"
   ]
  },
  {
   "cell_type": "code",
   "execution_count": 34,
   "metadata": {},
   "outputs": [
    {
     "name": "stdout",
     "output_type": "stream",
     "text": [
      "Spearman correlation for the train set: 19.1%\n"
     ]
    }
   ],
   "source": [
    "gb_best = GradientBoostingRegressor(max_depth=2, n_estimators=280, learning_rate=0.01, random_state=1)\n",
    "\n",
    "result = training(gb_best)"
   ]
  },
  {
   "cell_type": "code",
   "execution_count": 14,
   "metadata": {},
   "outputs": [],
   "source": [
    "X_test = pd.read_csv('../challenge_data/X_test.csv')\n",
    "X_test = X_test.drop(['COUNTRY'], axis=1)\n",
    "X_test_clean = preprocessing(X_test, norm=True, pca=True)"
   ]
  },
  {
   "cell_type": "code",
   "execution_count": 15,
   "metadata": {},
   "outputs": [
    {
     "name": "stderr",
     "output_type": "stream",
     "text": [
      "d:\\Python\\lib\\site-packages\\sklearn\\base.py:439: UserWarning: X does not have valid feature names, but GradientBoostingRegressor was fitted with feature names\n",
      "  warnings.warn(\n"
     ]
    }
   ],
   "source": [
    "submission(X_test, X_test_clean, gb_best, 'gb_best')"
   ]
  },
  {
   "cell_type": "code",
   "execution_count": 24,
   "metadata": {},
   "outputs": [
    {
     "name": "stdout",
     "output_type": "stream",
     "text": [
      "Spearman correlation for the train set: 12.7%\n"
     ]
    }
   ],
   "source": [
    "xgb = XGBRegressor(max_depth=2, n_estimators=500, learning_rate=0.1)\n",
    "result = training(xgb)"
   ]
  },
  {
   "cell_type": "code",
   "execution_count": 25,
   "metadata": {},
   "outputs": [
    {
     "name": "stdout",
     "output_type": "stream",
     "text": [
      "The best parameters values are: learning_rate: 0.01, n_estimators: 190\n"
     ]
    }
   ],
   "source": [
    "n_estimators = np.arange(100, 600, 30)\n",
    "learning_rate = [0.01, 0.05, 0.1, 0.5, 1]\n",
    "best_n, best_learning_rate, best_model, best_result = grid_search_ensemble(n_estimators, learning_rate, 'XGBoost', X_train_clean, Y_train_clean)"
   ]
  },
  {
   "cell_type": "code",
   "execution_count": 31,
   "metadata": {},
   "outputs": [
    {
     "name": "stdout",
     "output_type": "stream",
     "text": [
      "Spearman correlation for the train set: 18.1%\n"
     ]
    }
   ],
   "source": [
    "xgb_best = XGBRegressor(max_depth=2, n_estimators=190, learning_rate=0.01)\n",
    "\n",
    "result = training(xgb_best)"
   ]
  },
  {
   "cell_type": "code",
   "execution_count": null,
   "metadata": {},
   "outputs": [],
   "source": []
  }
 ],
 "metadata": {
  "kernelspec": {
   "display_name": "Python 3",
   "language": "python",
   "name": "python3"
  },
  "language_info": {
   "codemirror_mode": {
    "name": "ipython",
    "version": 3
   },
   "file_extension": ".py",
   "mimetype": "text/x-python",
   "name": "python",
   "nbconvert_exporter": "python",
   "pygments_lexer": "ipython3",
   "version": "3.10.7"
  }
 },
 "nbformat": 4,
 "nbformat_minor": 2
}
